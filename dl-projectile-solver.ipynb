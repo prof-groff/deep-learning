{
 "cells": [
  {
   "cell_type": "markdown",
   "metadata": {},
   "source": [
    "## Deep Learning Projectile Motion Solver\n",
    "This notebook implements an artifical neural network to solve projectile motion problems when only three of the variables x, y, v0x, v0y, vy, and t are known. An solution engine utilizing kinematic equations of motion is used to calculate exact solutions to problems used to both train the neural network and evaluate the accuracy of its results. The domain of the problems is constrained to simplify the coding of the exact solution engine. Specifically, v0x and v0y are always >=0, y is always <=0, and vy is always an unkown. "
   ]
  },
  {
   "cell_type": "markdown",
   "metadata": {},
   "source": [
    "### Import useful packaged including TensorFlow 2.0 and Keras.\n",
    "The notebook utilizes tensorflow >= 2.0, which now includes keras, a package of high level wrappers designed to make building and training deep learning models easier. "
   ]
  },
  {
   "cell_type": "code",
   "execution_count": 1,
   "metadata": {},
   "outputs": [],
   "source": [
    "# import packages\n",
    "import tensorflow as tf\n",
    "import tensorflow.keras as keras\n",
    "import numpy as np\n",
    "import random\n",
    "import matplotlib.pyplot as plt\n",
    "from matplotlib.lines import Line2D\n",
    "\n",
    "from tensorflow.keras.layers import Dense, Dropout\n",
    "from tensorflow.keras.models import Sequential\n",
    "from tensorflow.keras import optimizers"
   ]
  },
  {
   "cell_type": "markdown",
   "metadata": {},
   "source": [
    "### Check to see if a Tensorflow is installed with GPU support and if a GPU is available."
   ]
  },
  {
   "cell_type": "code",
   "execution_count": 2,
   "metadata": {},
   "outputs": [
    {
     "name": "stdout",
     "output_type": "stream",
     "text": [
      "Default GPU /device:GPU:0 found.\n"
     ]
    }
   ],
   "source": [
    "if not tf.test.is_gpu_available():\n",
    "    print('No GPU found. Training will be slower.')\n",
    "else:\n",
    "    print('Default GPU {} found.'.format(tf.test.gpu_device_name()))"
   ]
  },
  {
   "cell_type": "markdown",
   "metadata": {},
   "source": [
    "### Define helper functions."
   ]
  },
  {
   "cell_type": "code",
   "execution_count": 3,
   "metadata": {},
   "outputs": [],
   "source": [
    "# randomly select a set of three knowns and set all unknowns initially to zero.\n",
    "def seed_inputs():\n",
    "\n",
    "    # need at least one known for the x-dimension, and one from the y dimension, but three in all.\n",
    "    # to make imaginary and multiple solutions impossible, voy and v0x are always >=0, \n",
    "    # y is always <= 0, and vy is always unknown.\n",
    "    variables = ['x', 'y', 'v0x', 'v0y', 'vy', 't'] \n",
    "    knowns = random.sample(['v0x', 'x'],1) + random.sample(['v0y', 'y'],1)\n",
    "    remaining = set(['x','y','v0x','v0y','t']).difference(set(knowns))\n",
    "    knowns = knowns + random.sample(remaining,1)\n",
    "    vals = [round(random.uniform(0,1000),2), round(random.uniform(0,-500),2), \n",
    "            round(random.uniform(50,100),2), round(random.uniform(50,100),2), \n",
    "            round(random.uniform(0,-100),2), round(random.uniform(5,20),2)]\n",
    "    ins = {variables[i]: vals[i] for i in range(len(variables))}\n",
    "\n",
    "    for key in ins:\n",
    "        if not key in knowns:\n",
    "            ins[key] = 0\n",
    "    \n",
    "    return knowns, ins\n",
    "\n",
    "# engine to solve projectile motion problem using kinematic equations of motion.\n",
    "# this may not be the most efficient or ellagent implementation but it works.\n",
    "def solve_projectile(knowns, ins):\n",
    "    outs = dict.copy(ins)\n",
    "    g = -9.8\n",
    "\n",
    "\n",
    "    if 'x' in knowns and 'v0x' in knowns: # find t\n",
    "        outs['t'] = outs['x']/outs['v0x'] \n",
    "        knowns = knowns + ['t']\n",
    "\n",
    "    if not 'y' in knowns:\n",
    "        if 'v0y' in knowns and 'vy' in knowns: # if not T\n",
    "            outs['t'] = (outs['vy'] - outs['v0y'])/g\n",
    "        elif 'v0y' in knowns and 't' in knowns: # if not VY\n",
    "            outs['vy'] = outs['v0y'] + g*outs['t']\n",
    "        elif 'vy' in knowns and 't' in knowns: # if not V0Y\n",
    "            outs['v0y'] = outs['vy'] - g*outs['t']\n",
    "        outs['y'] = outs['v0y']*outs['t'] + 0.5*g*outs['t']**2\n",
    "    elif 'y' in knowns and 't' in knowns:\n",
    "        outs['v0y'] = (outs['y'] - 0.5*g*outs['t']**2)/outs['t']\n",
    "        outs['vy'] = outs['v0y'] + g*outs['t']\n",
    "    elif 'y' in knowns and 'vy' in knowns:\n",
    "        outs['v0y'] = np.sqrt(outs['vy']**2 - 2*g*outs['y']) # always positive\n",
    "        outs['t'] = (outs['vy']-outs['v0y'])/g\n",
    "    elif 'y' in knowns and 'v0y' in knowns:\n",
    "        outs['vy'] = -np.sqrt(outs['v0y']**2 + 2*g*outs['y'])\n",
    "        outs['t'] = (outs['vy']-outs['v0y'])/g\n",
    "    if 'x' in knowns and not 'v0x' in knowns:\n",
    "        outs['v0x'] = outs['x']/outs['t']\n",
    "    \n",
    "        \n",
    "    if 'v0x' in knowns and not 'x' in knowns:\n",
    "        outs['x'] = outs['v0x']*outs['t']\n",
    "\n",
    "    \n",
    "    for key in outs:\n",
    "        outs[key] = round(outs[key],2)\n",
    "\n",
    "    return outs\n",
    "\n",
    "# generate N projectile motion problems and their solutions.\n",
    "def generate_data(N):\n",
    "    x = np.zeros((N,6))\n",
    "    y = np.zeros((N,6))\n",
    "    for ii in range(N):\n",
    "        knowns, ins = seed_inputs()\n",
    "        outs = solve_projectile(knowns, ins)\n",
    "        x[ii,:] = list(ins.values())\n",
    "        y[ii,:] = list(outs.values())\n",
    "        \n",
    "    return x, y\n",
    "\n",
    "# function to test the solution engine so individual solutions can be checked for correctness.\n",
    "def test_solution_engine():\n",
    "    variables = np.array(['x', 'y', 'v0x', 'v0y', 'vy', 't'])\n",
    "    knowns, ins = seed_inputs()\n",
    "    outs = solve_projectile(knowns, ins)\n",
    "\n",
    "    unknowns = list(set(variables).difference(set(knowns)))\n",
    "\n",
    "    ins = list(ins.values())\n",
    "    outs = list(outs.values())\n",
    "\n",
    "    print('knowns:')\n",
    "    for each in knowns:\n",
    "        ii = list(np.where(variables==each))[0][0]\n",
    "        print(each, '=', ins[ii])\n",
    "    print('\\nsolved uknowns:')\n",
    "    for each in unknowns:\n",
    "        ii = list(np.where(variables==each))[0][0]\n",
    "        print(each, '=', outs[ii])\n",
    "    \n",
    "    return\n",
    "\n",
    "# function to calculate a projectiles trajectory from v0x, v0y, and x\n",
    "def calc_trajectory(solution):\n",
    "    theta = np.arctan(solution['v0y']/solution['v0x'])\n",
    "    v0 = np.sqrt(solution['v0x']**2 + solution['v0y']**2)\n",
    "    xrange = np.arange(0,solution['x'],0.1)\n",
    "    yrange = xrange*np.tan(theta) - 9.8*np.multiply(xrange,xrange)/(2*v0**2*np.cos(theta)**2)\n",
    "    \n",
    "    return xrange, yrange"
   ]
  },
  {
   "cell_type": "markdown",
   "metadata": {},
   "source": [
    "### Run the following cell to test the solution engine."
   ]
  },
  {
   "cell_type": "code",
   "execution_count": 4,
   "metadata": {},
   "outputs": [
    {
     "name": "stdout",
     "output_type": "stream",
     "text": [
      "knowns:\n",
      "x = 468.0\n",
      "y = -487.5\n",
      "v0y = 72.27\n",
      "\n",
      "solved uknowns:\n",
      "v0x = 23.66\n",
      "t = 19.78\n",
      "vy = -121.56\n"
     ]
    }
   ],
   "source": [
    "test_solution_engine()"
   ]
  },
  {
   "cell_type": "markdown",
   "metadata": {},
   "source": [
    "### Generate training, test, and validation data sets."
   ]
  },
  {
   "cell_type": "code",
   "execution_count": 5,
   "metadata": {},
   "outputs": [],
   "source": [
    "x_train, y_train = generate_data(50000)\n",
    "x_test, y_test = generate_data(5000)\n",
    "x_validate, y_validate = generate_data(5000)"
   ]
  },
  {
   "cell_type": "markdown",
   "metadata": {},
   "source": [
    "### Define the ANN model graph."
   ]
  },
  {
   "cell_type": "code",
   "execution_count": 6,
   "metadata": {},
   "outputs": [],
   "source": [
    "# learning_rate is a hyperparameter\n",
    "learning_rate = 0.0001\n",
    "\n",
    "# four hidden layers - three fully connected and a dropout layer - and an output layer\n",
    "# linear activation is utilized on the final layer to get numerical results commensurate with the type of \n",
    "# problem we are considering.\n",
    "model = Sequential()\n",
    "model.add(Dense(128, activation='relu', input_dim=6))\n",
    "model.add(Dense(256, activation='relu'))\n",
    "model.add(Dropout(rate=0.05))\n",
    "model.add(Dense(256, activation='relu'))\n",
    "model.add(Dense(6, activation='linear'))\n",
    "\n",
    "          \n",
    "# the error function utilized is the sum of the mean squared error.\n",
    "model.compile(loss='mean_squared_error',\n",
    "              optimizer=keras.optimizers.Adam(lr=learning_rate),\n",
    "              metrics=['accuracy'])\n",
    "          \n",
    "class AccuracyHistory(keras.callbacks.Callback):\n",
    "    def on_train_begin(self, logs={}):\n",
    "        self.acc = []\n",
    "        self.val_acc = []\n",
    "\n",
    "    def on_epoch_end(self, batch, logs={}):\n",
    "        self.acc.append(logs.get('accuracy'))\n",
    "        self.val_acc.append(logs.get('val_accuracy'))\n",
    "\n",
    "history = AccuracyHistory()"
   ]
  },
  {
   "cell_type": "markdown",
   "metadata": {},
   "source": [
    "### Train the model."
   ]
  },
  {
   "cell_type": "code",
   "execution_count": 7,
   "metadata": {},
   "outputs": [
    {
     "name": "stdout",
     "output_type": "stream",
     "text": [
      "Train on 50000 samples, validate on 5000 samples\n",
      "Epoch 1/64\n",
      "50000/50000 [==============================] - 2s 46us/sample - loss: 790923.4557 - accuracy: 0.9225 - val_loss: 17310.0560 - val_accuracy: 0.9334\n",
      "Epoch 2/64\n",
      "50000/50000 [==============================] - 2s 30us/sample - loss: 772039.3568 - accuracy: 0.9258 - val_loss: 13181.8041 - val_accuracy: 0.9296\n",
      "Epoch 3/64\n",
      "50000/50000 [==============================] - 2s 32us/sample - loss: 769984.8506 - accuracy: 0.9263 - val_loss: 12108.5631 - val_accuracy: 0.9298\n",
      "Epoch 4/64\n",
      "50000/50000 [==============================] - 2s 31us/sample - loss: 767370.6362 - accuracy: 0.9297 - val_loss: 12021.4125 - val_accuracy: 0.9398\n",
      "Epoch 5/64\n",
      "50000/50000 [==============================] - 2s 31us/sample - loss: 765401.8526 - accuracy: 0.9350 - val_loss: 10051.4580 - val_accuracy: 0.9506\n",
      "Epoch 6/64\n",
      "50000/50000 [==============================] - 2s 32us/sample - loss: 762975.0539 - accuracy: 0.9455 - val_loss: 10620.0884 - val_accuracy: 0.9592\n",
      "Epoch 7/64\n",
      "50000/50000 [==============================] - 2s 31us/sample - loss: 760207.6519 - accuracy: 0.9541 - val_loss: 16624.3693 - val_accuracy: 0.9548\n",
      "Epoch 8/64\n",
      "50000/50000 [==============================] - 2s 34us/sample - loss: 757846.5763 - accuracy: 0.9585 - val_loss: 9241.7609 - val_accuracy: 0.9714\n",
      "Epoch 9/64\n",
      "50000/50000 [==============================] - 2s 34us/sample - loss: 753694.8212 - accuracy: 0.9621 - val_loss: 7221.5304 - val_accuracy: 0.9690\n",
      "Epoch 10/64\n",
      "50000/50000 [==============================] - 2s 33us/sample - loss: 751410.7309 - accuracy: 0.9643 - val_loss: 7581.1078 - val_accuracy: 0.9768\n",
      "Epoch 11/64\n",
      "50000/50000 [==============================] - 2s 33us/sample - loss: 747554.2626 - accuracy: 0.9667 - val_loss: 7982.6368 - val_accuracy: 0.9702\n",
      "Epoch 12/64\n",
      "50000/50000 [==============================] - 2s 32us/sample - loss: 743323.6578 - accuracy: 0.9690 - val_loss: 8141.0760 - val_accuracy: 0.9764\n",
      "Epoch 13/64\n",
      "50000/50000 [==============================] - 2s 32us/sample - loss: 739190.4770 - accuracy: 0.9683 - val_loss: 6121.0777 - val_accuracy: 0.9792\n",
      "Epoch 14/64\n",
      "50000/50000 [==============================] - 2s 36us/sample - loss: 735527.2552 - accuracy: 0.9689 - val_loss: 6203.2801 - val_accuracy: 0.9804\n",
      "Epoch 15/64\n",
      "50000/50000 [==============================] - 2s 33us/sample - loss: 729209.7492 - accuracy: 0.9698 - val_loss: 5221.8344 - val_accuracy: 0.9794\n",
      "Epoch 16/64\n",
      "50000/50000 [==============================] - 2s 31us/sample - loss: 726352.8917 - accuracy: 0.9678 - val_loss: 6104.1448 - val_accuracy: 0.9784\n",
      "Epoch 17/64\n",
      "50000/50000 [==============================] - 2s 33us/sample - loss: 721657.2026 - accuracy: 0.9684 - val_loss: 4592.7552 - val_accuracy: 0.9794\n",
      "Epoch 18/64\n",
      "50000/50000 [==============================] - 2s 32us/sample - loss: 718368.1327 - accuracy: 0.9690 - val_loss: 7357.5712 - val_accuracy: 0.9776\n",
      "Epoch 19/64\n",
      "50000/50000 [==============================] - 2s 31us/sample - loss: 711592.6266 - accuracy: 0.9679 - val_loss: 5217.0034 - val_accuracy: 0.9748\n",
      "Epoch 20/64\n",
      "50000/50000 [==============================] - 2s 33us/sample - loss: 707668.2205 - accuracy: 0.9693 - val_loss: 6626.5334 - val_accuracy: 0.9742\n",
      "Epoch 21/64\n",
      "50000/50000 [==============================] - 2s 35us/sample - loss: 701759.5537 - accuracy: 0.9692 - val_loss: 6660.1405 - val_accuracy: 0.9778\n",
      "Epoch 22/64\n",
      "50000/50000 [==============================] - 2s 32us/sample - loss: 697325.2839 - accuracy: 0.9687 - val_loss: 8741.5473 - val_accuracy: 0.9734\n",
      "Epoch 23/64\n",
      "50000/50000 [==============================] - 2s 35us/sample - loss: 690689.7021 - accuracy: 0.9686 - val_loss: 9462.4196 - val_accuracy: 0.9780\n",
      "Epoch 24/64\n",
      "50000/50000 [==============================] - 2s 31us/sample - loss: 685557.9109 - accuracy: 0.9678 - val_loss: 10382.3015 - val_accuracy: 0.9784\n",
      "Epoch 25/64\n",
      "50000/50000 [==============================] - 2s 32us/sample - loss: 680006.8432 - accuracy: 0.9677 - val_loss: 5663.9731 - val_accuracy: 0.9778\n",
      "Epoch 26/64\n",
      "50000/50000 [==============================] - 2s 32us/sample - loss: 677810.8091 - accuracy: 0.9673 - val_loss: 5026.6146 - val_accuracy: 0.9726\n",
      "Epoch 27/64\n",
      "50000/50000 [==============================] - 2s 31us/sample - loss: 672898.5961 - accuracy: 0.9683 - val_loss: 9620.6865 - val_accuracy: 0.9778\n",
      "Epoch 28/64\n",
      "50000/50000 [==============================] - 2s 31us/sample - loss: 667722.7251 - accuracy: 0.9686 - val_loss: 12411.0961 - val_accuracy: 0.9776\n",
      "Epoch 29/64\n",
      "50000/50000 [==============================] - 2s 32us/sample - loss: 666325.0893 - accuracy: 0.9678 - val_loss: 6571.4673 - val_accuracy: 0.9714\n",
      "Epoch 30/64\n",
      "50000/50000 [==============================] - 2s 31us/sample - loss: 662249.0594 - accuracy: 0.9665 - val_loss: 8172.0687 - val_accuracy: 0.9728\n",
      "Epoch 31/64\n",
      "50000/50000 [==============================] - 2s 31us/sample - loss: 657275.4010 - accuracy: 0.9671 - val_loss: 5158.8038 - val_accuracy: 0.9772\n",
      "Epoch 32/64\n",
      "50000/50000 [==============================] - 2s 32us/sample - loss: 655386.8628 - accuracy: 0.9686 - val_loss: 23983.3773 - val_accuracy: 0.9730\n",
      "Epoch 33/64\n",
      "50000/50000 [==============================] - 2s 32us/sample - loss: 655084.6878 - accuracy: 0.9678 - val_loss: 12801.4199 - val_accuracy: 0.9734\n",
      "Epoch 34/64\n",
      "50000/50000 [==============================] - 2s 32us/sample - loss: 646820.1938 - accuracy: 0.9682 - val_loss: 8770.1624 - val_accuracy: 0.9716\n",
      "Epoch 35/64\n",
      "50000/50000 [==============================] - 2s 31us/sample - loss: 644679.8202 - accuracy: 0.9681 - val_loss: 7363.7443 - val_accuracy: 0.9712\n",
      "Epoch 36/64\n",
      "50000/50000 [==============================] - 2s 33us/sample - loss: 639159.0838 - accuracy: 0.9683 - val_loss: 11723.2630 - val_accuracy: 0.9746\n",
      "Epoch 37/64\n",
      "50000/50000 [==============================] - 2s 35us/sample - loss: 633470.3524 - accuracy: 0.9694 - val_loss: 4224.0563 - val_accuracy: 0.9776\n",
      "Epoch 38/64\n",
      "50000/50000 [==============================] - 2s 33us/sample - loss: 633071.8697 - accuracy: 0.9699 - val_loss: 5873.6752 - val_accuracy: 0.9814\n",
      "Epoch 39/64\n",
      "50000/50000 [==============================] - 2s 32us/sample - loss: 630524.8941 - accuracy: 0.9696 - val_loss: 9243.8811 - val_accuracy: 0.9802\n",
      "Epoch 40/64\n",
      "50000/50000 [==============================] - 2s 33us/sample - loss: 623222.2621 - accuracy: 0.9711 - val_loss: 15061.6235 - val_accuracy: 0.9688\n",
      "Epoch 41/64\n",
      "50000/50000 [==============================] - 2s 32us/sample - loss: 619118.7250 - accuracy: 0.9707 - val_loss: 12512.2601 - val_accuracy: 0.9776\n",
      "Epoch 42/64\n",
      "50000/50000 [==============================] - 2s 32us/sample - loss: 614293.9015 - accuracy: 0.9718 - val_loss: 3397.6551 - val_accuracy: 0.9788\n",
      "Epoch 43/64\n",
      "50000/50000 [==============================] - 2s 33us/sample - loss: 616543.0075 - accuracy: 0.9721 - val_loss: 3448.8554 - val_accuracy: 0.9844\n",
      "Epoch 44/64\n",
      "50000/50000 [==============================] - 2s 33us/sample - loss: 611945.9599 - accuracy: 0.9725 - val_loss: 6946.5518 - val_accuracy: 0.9802\n",
      "Epoch 45/64\n",
      "50000/50000 [==============================] - 2s 31us/sample - loss: 608935.4892 - accuracy: 0.9730 - val_loss: 4288.3853 - val_accuracy: 0.9838\n",
      "Epoch 46/64\n",
      "50000/50000 [==============================] - 2s 31us/sample - loss: 607213.3259 - accuracy: 0.9737 - val_loss: 4950.6997 - val_accuracy: 0.9826\n",
      "Epoch 47/64\n",
      "50000/50000 [==============================] - 2s 32us/sample - loss: 598386.8044 - accuracy: 0.9729 - val_loss: 4859.7456 - val_accuracy: 0.9836\n",
      "Epoch 48/64\n",
      "50000/50000 [==============================] - 2s 33us/sample - loss: 599798.2278 - accuracy: 0.9738 - val_loss: 15141.9102 - val_accuracy: 0.9796\n",
      "Epoch 49/64\n",
      "50000/50000 [==============================] - 2s 34us/sample - loss: 586901.5111 - accuracy: 0.9735 - val_loss: 3088.4951 - val_accuracy: 0.9822\n",
      "Epoch 50/64\n",
      "50000/50000 [==============================] - 2s 33us/sample - loss: 594794.4172 - accuracy: 0.9728 - val_loss: 3104.6258 - val_accuracy: 0.9804\n",
      "Epoch 51/64\n",
      "50000/50000 [==============================] - 2s 33us/sample - loss: 588219.8322 - accuracy: 0.9717 - val_loss: 4129.7659 - val_accuracy: 0.9760\n",
      "Epoch 52/64\n"
     ]
    },
    {
     "name": "stdout",
     "output_type": "stream",
     "text": [
      "50000/50000 [==============================] - 2s 31us/sample - loss: 591915.3942 - accuracy: 0.9722 - val_loss: 4833.4710 - val_accuracy: 0.9830\n",
      "Epoch 53/64\n",
      "50000/50000 [==============================] - 2s 31us/sample - loss: 577678.8341 - accuracy: 0.9736 - val_loss: 4181.8406 - val_accuracy: 0.9782\n",
      "Epoch 54/64\n",
      "50000/50000 [==============================] - 2s 33us/sample - loss: 582896.9283 - accuracy: 0.9712 - val_loss: 7126.7838 - val_accuracy: 0.9772\n",
      "Epoch 55/64\n",
      "50000/50000 [==============================] - 2s 33us/sample - loss: 575229.5686 - accuracy: 0.9731 - val_loss: 8580.1887 - val_accuracy: 0.9798\n",
      "Epoch 56/64\n",
      "50000/50000 [==============================] - 2s 31us/sample - loss: 570508.1719 - accuracy: 0.9723 - val_loss: 19140.8956 - val_accuracy: 0.9698\n",
      "Epoch 57/64\n",
      "50000/50000 [==============================] - 2s 32us/sample - loss: 566348.8801 - accuracy: 0.9725 - val_loss: 8086.6461 - val_accuracy: 0.9822\n",
      "Epoch 58/64\n",
      "50000/50000 [==============================] - 2s 32us/sample - loss: 561162.3248 - accuracy: 0.9723 - val_loss: 4920.2404 - val_accuracy: 0.9766\n",
      "Epoch 59/64\n",
      "50000/50000 [==============================] - 2s 32us/sample - loss: 549114.9760 - accuracy: 0.9717 - val_loss: 3684.9200 - val_accuracy: 0.9814\n",
      "Epoch 60/64\n",
      "50000/50000 [==============================] - 2s 33us/sample - loss: 558446.4938 - accuracy: 0.9726 - val_loss: 4609.0945 - val_accuracy: 0.9786\n",
      "Epoch 61/64\n",
      "50000/50000 [==============================] - 2s 31us/sample - loss: 553783.6123 - accuracy: 0.9732 - val_loss: 9539.8789 - val_accuracy: 0.9824\n",
      "Epoch 62/64\n",
      "50000/50000 [==============================] - 2s 33us/sample - loss: 545444.7654 - accuracy: 0.9728 - val_loss: 5146.9540 - val_accuracy: 0.9756\n",
      "Epoch 63/64\n",
      "50000/50000 [==============================] - 2s 32us/sample - loss: 546063.7884 - accuracy: 0.9726 - val_loss: 4652.9647 - val_accuracy: 0.9814\n",
      "Epoch 64/64\n",
      "50000/50000 [==============================] - 2s 31us/sample - loss: 538281.8331 - accuracy: 0.9725 - val_loss: 5908.8985 - val_accuracy: 0.9744\n"
     ]
    }
   ],
   "source": [
    "# hyperparameters\n",
    "batch_size = 64\n",
    "epochs = 64\n",
    "\n",
    "# train the model\n",
    "model.fit(x_train, y_train,\n",
    "          batch_size=batch_size,\n",
    "          epochs=epochs,\n",
    "          verbose=1,\n",
    "          validation_data=(x_validate, y_validate),\n",
    "          callbacks=[history])\n",
    "score = model.evaluate(x_test, y_test, verbose=0)"
   ]
  },
  {
   "cell_type": "markdown",
   "metadata": {},
   "source": [
    "### Graph the accuracy of the model using the training data set versus the validation data set."
   ]
  },
  {
   "cell_type": "code",
   "execution_count": 8,
   "metadata": {},
   "outputs": [
    {
     "name": "stdout",
     "output_type": "stream",
     "text": [
      "Test loss: 10582.410112988282\n",
      "Test accuracy: 0.9736\n"
     ]
    },
    {
     "data": {
      "image/png": "[encoded data removed]",
      "text/plain": [
       "<Figure size 432x288 with 1 Axes>"
      ]
     },
     "metadata": {
      "needs_background": "light"
     },
     "output_type": "display_data"
    }
   ],
   "source": [
    "print('Test loss:', score[0])\n",
    "print('Test accuracy:', score[1])\n",
    "plt.plot(range(1,epochs+1), history.acc, range(1,epochs+1), history.val_acc)\n",
    "plt.legend(['Train','Validate'])\n",
    "plt.xlabel('Epochs')\n",
    "plt.ylabel('Accuracy')\n",
    "plt.show()"
   ]
  },
  {
   "cell_type": "markdown",
   "metadata": {},
   "source": [
    "### Visualize solutions to the projectile motion problem predicted by the ANN\n",
    "The solutions to the projectile motion problems predicted by the trained neural network are not exact solutions. In fact, the nature of the model can result in even the knowns fed into the network being adusted. So, each prediction made by the ANN from a set of three knowns acually defines a variety of trajectories, which are visualized here."
   ]
  },
  {
   "cell_type": "code",
   "execution_count": 26,
   "metadata": {},
   "outputs": [
    {
     "data": {
      "image/png": "[encoded data removed]",
      "text/plain": [
       "<Figure size 720x432 with 1 Axes>"
      ]
     },
     "metadata": {
      "needs_background": "light"
     },
     "output_type": "display_data"
    }
   ],
   "source": [
    "variables = np.array(['x', 'y', 'v0x', 'v0y', 'vy', 't'])\n",
    "knowns, ins = seed_inputs()\n",
    "outs = solve_projectile(knowns, ins)\n",
    "outs_prime = model.predict([list(ins.values())])\n",
    "outs_prime = {variables[i]: round(outs_prime[0][i],2) for i in range(len(variables))} # convert to dict\n",
    "knowns_perms = [['v0x', 'v0y', 'x'], ['v0x', 'v0y', 'y'], ['v0x', 'v0y', 't'],\n",
    "                ['v0x', 'y', 'x'], ['v0x', 'y', 't'],\n",
    "                ['x', 'v0y', 'y'], ['x', 'v0y', 't'],\n",
    "                ['x', 'y', 't']]\n",
    "plt.figure(figsize=(10,6))\n",
    "\n",
    "xr, yr = calc_trajectory(outs)\n",
    "actual = plt.plot(xr, yr, 'k', linewidth=5)\n",
    "\n",
    "for each in knowns_perms:\n",
    "    solution = solve_projectile(each, outs_prime)\n",
    "    xrange, yrange = calc_trajectory(solution)\n",
    "    plt.plot(xrange,yrange,'r', linestyle='dashed')\n",
    "\n",
    "plt.xlabel('x (m)', fontsize=12)\n",
    "plt.ylabel('y (m)', fontsize=12)\n",
    "\n",
    "\n",
    "legend_elements = [Line2D([0], [0], color='k', linewidth=5), Line2D([0], [0], color='r', linestyle='dashed')]\n",
    "labels = ['actual','predicted']\n",
    "\n",
    "plt.legend(legend_elements, labels, fontsize=12)\n",
    "plt.savefig('projectile.png')\n",
    "plt.show()"
   ]
  },
  {
   "cell_type": "code",
   "execution_count": null,
   "metadata": {},
   "outputs": [],
   "source": []
  }
 ],
 "metadata": {
  "kernelspec": {
   "display_name": "Python 3",
   "language": "python",
   "name": "python3"
  },
  "language_info": {
   "codemirror_mode": {
    "name": "ipython",
    "version": 3
   },
   "file_extension": ".py",
   "mimetype": "text/x-python",
   "name": "python",
   "nbconvert_exporter": "python",
   "pygments_lexer": "ipython3",
   "version": "3.6.9"
  }
 },
 "nbformat": 4,
 "nbformat_minor": 2
}
