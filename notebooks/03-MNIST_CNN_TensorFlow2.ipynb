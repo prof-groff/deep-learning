{
 "cells": [
  {
   "cell_type": "markdown",
   "metadata": {},
   "source": [
    "## Convolution Neural Network (CNN)\n",
    "A CNN implemented in Keras trained with the MNIST dataset considting of images hand drawn numbers (0-9). The trained network is easily capable of classifying novel had drawn numbers with over 95% accuracy.<br>\n",
    "\n",
    "<strong>NOTE: Updated for TensorFlow 2.0</strong><br>\n",
    "\n",
    "<strong>Network Stucture:</strong><br>\n",
    "Inputs - 28x28x1 grayscale images with each pixel represented by a byte from 0 (black) to 255 (white)<br>\n",
    "Convolution Layer (2D) - 16 filters (feature/activation maps), 5x5 kernel, stride of one, rectified linear activation<br>\n",
    "Max Pooling Layer (2D) - 2x2 pool size, stride of 2<br>\n",
    "Covolution Layer (2D) - 32 filters, 5x5 kernel, stride of 2, rectified linear activation<br>\n",
    "Max Pooling Layer (2D) - 2x2 pool size, stride of 1<br>\n",
    "Fully Connected (Dense) - 128 nodes, rectified linear activation<br>\n",
    "Fully Connected (Dense) - 10 nodes (one for each class/digit), softmax activation<br>"
   ]
  },
  {
   "cell_type": "code",
   "execution_count": 1,
   "metadata": {},
   "outputs": [],
   "source": [
    "# import libraries and modules\n",
    "import tensorflow as tf\n",
    "import tensorflow.keras as keras\n",
    "import tensorflow.keras.backend as K\n",
    "from tensorflow.keras.datasets import mnist\n",
    "from tensorflow.keras.layers import Dense, Flatten\n",
    "from tensorflow.keras.layers import Conv2D, MaxPooling2D\n",
    "from tensorflow.keras.models import Sequential\n",
    "import matplotlib.pylab as plt\n",
    "import numpy as np"
   ]
  },
  {
   "cell_type": "code",
   "execution_count": 2,
   "metadata": {},
   "outputs": [
    {
     "name": "stdout",
     "output_type": "stream",
     "text": [
      "Default GPU Device: /device:GPU:0\n"
     ]
    }
   ],
   "source": [
    "# check for a GPU\n",
    "if not tf.test.gpu_device_name():\n",
    "    warnings.warn('No GPU found. Training the neural network will be slower.')\n",
    "else:\n",
    "    print('Default GPU Device: {}'.format(tf.test.gpu_device_name()))"
   ]
  },
  {
   "cell_type": "code",
   "execution_count": 3,
   "metadata": {},
   "outputs": [],
   "source": [
    "# some helper functions modified from... \n",
    "# author: Philippe Remy\n",
    "# license: MIT\n",
    "# https://pypi.org/project/keract/\n",
    "\n",
    "def get_activations(model, model_inputs, layer_name=None):\n",
    "    activations = []\n",
    "    inp = model.input\n",
    "\n",
    "    model_multi_inputs_cond = True\n",
    "    if not isinstance(inp, list):\n",
    "        # only one input! let's wrap it in a list.\n",
    "        inp = [inp]\n",
    "        model_multi_inputs_cond = False\n",
    "\n",
    "    outputs = [layer.output for layer in model.layers if\n",
    "               layer.name == layer_name or layer_name is None]  # all layer outputs\n",
    "\n",
    "    # we remove the placeholders (Inputs node in Keras). Not the most elegant though..\n",
    "    outputs = [output for output in outputs if 'input_' not in output.name]\n",
    "\n",
    "    funcs = [K.function(inp + [K.learning_phase()], [out]) for out in outputs]  # evaluation functions\n",
    "\n",
    "    if model_multi_inputs_cond:\n",
    "        list_inputs = []\n",
    "        list_inputs.extend(model_inputs)\n",
    "        list_inputs.append(0.)\n",
    "    else:\n",
    "        list_inputs = [model_inputs, 0.]\n",
    "\n",
    "    # Learning phase. 0 = Test mode (no dropout or batch normalization)\n",
    "    # layer_outputs = [func([model_inputs, 0.])[0] for func in funcs]\n",
    "    activations = [func(list_inputs)[0] for func in funcs]\n",
    "    layer_names = [output.name for output in outputs]\n",
    "\n",
    "    result = dict(zip(layer_names, activations))\n",
    "    return result\n",
    "\n",
    "\n",
    "def display_activations(activations):\n",
    "    layer_names = list(activations.keys())\n",
    "    activation_maps = list(activations.values())\n",
    "    batch_size = activation_maps[0].shape[0]\n",
    "    assert batch_size == 1, 'One image at a time to visualize.'\n",
    "    for i, activation_map in enumerate(activation_maps):\n",
    "        print('Displaying activation map {}'.format(i))\n",
    "        shape = activation_map.shape\n",
    "        if len(shape) == 4:\n",
    "            activations = np.hstack(np.transpose(activation_map[0], (2, 0, 1)))\n",
    "        elif len(shape) == 2:\n",
    "            # try to make it square as much as possible. we can skip some activations.\n",
    "            activations = activation_map[0]\n",
    "            num_activations = len(activations)\n",
    "            if num_activations > 1024:  # too hard to display it on the screen.\n",
    "                square_param = int(np.floor(np.sqrt(num_activations)))\n",
    "                activations = activations[0: square_param * square_param]\n",
    "                activations = np.reshape(activations, (square_param, square_param))\n",
    "            else:\n",
    "                activations = np.expand_dims(activations, axis=0)\n",
    "        else:\n",
    "            raise Exception('len(shape) = 3 has not been implemented.')\n",
    "        fig = plt.figure(i, [15,5])\n",
    "        plt.title(layer_names[i])\n",
    "        plt.imshow(activations, interpolation='None', cmap='jet')\n",
    "        plt.show()"
   ]
  },
  {
   "cell_type": "code",
   "execution_count": 4,
   "metadata": {},
   "outputs": [],
   "source": [
    "# load the MNIST data set, which is already splits into train and test data sets\n",
    "(x_train, y_train), (x_test_validate, y_test_validate) = mnist.load_data()\n",
    "# split the test data into a valiation and a test sample\n",
    "x_test, x_validate = x_test_validate[:5000,:,:], x_test_validate[5000:,:,:]\n",
    "y_test, y_validate = y_test_validate[:5000], y_test_validate[5000:]"
   ]
  },
  {
   "cell_type": "code",
   "execution_count": 5,
   "metadata": {},
   "outputs": [
    {
     "data": {
      "image/png": "[encoded data removed]",
      "text/plain": [
       "<Figure size 720x720 with 9 Axes>"
      ]
     },
     "metadata": {},
     "output_type": "display_data"
    }
   ],
   "source": [
    "# show some examples from the MNIST training data set\n",
    "fig = plt.figure(0, [10,10])\n",
    "axes = fig.subplots(3, 3, sharex='col', sharey='row')\n",
    "examples = np.random.choice(np.arange(x_train.shape[0]),size=9,replace=False) \n",
    "ii = 0\n",
    "for row in axes:\n",
    "    for col in row:\n",
    "        col.imshow(x_train[examples[ii],:,:],cmap='gray')\n",
    "        ii+=1\n",
    "plt.show()"
   ]
  },
  {
   "cell_type": "code",
   "execution_count": 6,
   "metadata": {},
   "outputs": [
    {
     "name": "stdout",
     "output_type": "stream",
     "text": [
      "x_train shape: (60000, 28, 28, 1)\n",
      "y_train shape: (60000,)\n",
      "60000 train samples\n",
      "5000 validation samples\n",
      "5000 test samples\n"
     ]
    }
   ],
   "source": [
    "# do some preprocessing of the data\n",
    "\n",
    "# some parameters\n",
    "num_classes = 10 # number of distinct digits\n",
    "img_x, img_y = 28, 28 # input image dimensions\n",
    "input_shape = (img_x, img_y, 1) # shape of each image in collection\n",
    "\n",
    "# some hyperparameters\n",
    "batch_size = 128\n",
    "epochs = 8\n",
    "\n",
    "# reshape the data into a 4D tensor - (sample_number, x_img_size, y_img_size, num_channels)\n",
    "# because the MNIST is greyscale, we only have a single channel (last dimension) - RGB colour images would have 3\n",
    "x_train = x_train.reshape(x_train.shape[0], img_x, img_y, 1)\n",
    "x_validate = x_validate.reshape(x_validate.shape[0], img_x, img_y, 1)\n",
    "x_test = x_test.reshape(x_test.shape[0], img_x, img_y, 1)\n",
    "\n",
    "# convert the data to the right type\n",
    "x_train = x_train.astype('float32')\n",
    "x_validate = x_validate.astype('float32')\n",
    "x_test = x_test.astype('float32')\n",
    "x_train /= 255 # normalize pixel values to between zero and one\n",
    "x_validate /= 255\n",
    "x_test /= 255\n",
    "print('x_train shape:', x_train.shape)\n",
    "print('y_train shape:', y_train.shape)\n",
    "print(x_train.shape[0], 'train samples')\n",
    "print(x_validate.shape[0], 'validation samples')\n",
    "print(x_test.shape[0], 'test samples')\n",
    "\n",
    "# convert class vectors to binary class matrices - this is for use in the\n",
    "# categorical_crossentropy loss below\n",
    "y_train = keras.utils.to_categorical(y_train, num_classes)\n",
    "y_validate = keras.utils.to_categorical(y_validate, num_classes)\n",
    "y_test = keras.utils.to_categorical(y_test, num_classes)"
   ]
  },
  {
   "cell_type": "code",
   "execution_count": 10,
   "metadata": {},
   "outputs": [],
   "source": [
    "# another hyperparameter\n",
    "learning_rate = 0.001\n",
    "\n",
    "# define the model\n",
    "model = Sequential()\n",
    "model.add(Conv2D(16, kernel_size=(5, 5), strides=(1, 1),\n",
    "                 activation='relu',\n",
    "                 input_shape=input_shape))\n",
    "model.add(MaxPooling2D(pool_size=(2, 2), strides=(2, 2)))\n",
    "model.add(Conv2D(32, (5, 5), activation='relu'))\n",
    "model.add(MaxPooling2D(pool_size=(2, 2)))\n",
    "model.add(Flatten())\n",
    "model.add(Dense(128, activation='relu'))\n",
    "model.add(Dense(num_classes, activation='softmax'))\n",
    "\n",
    "model.compile(loss=keras.losses.categorical_crossentropy,\n",
    "              optimizer=keras.optimizers.Adam(lr=learning_rate),\n",
    "              metrics=['accuracy'])\n",
    "\n",
    "\n",
    "class AccuracyHistory(keras.callbacks.Callback):\n",
    "    def on_train_begin(self, logs={}):\n",
    "        self.acc = []\n",
    "        self.val_acc = []\n",
    "\n",
    "    def on_epoch_end(self, batch, logs={}):\n",
    "        self.acc.append(logs.get('accuracy'))\n",
    "        self.val_acc.append(logs.get('val_accuracy'))\n",
    "\n",
    "history = AccuracyHistory()"
   ]
  },
  {
   "cell_type": "code",
   "execution_count": 11,
   "metadata": {},
   "outputs": [
    {
     "name": "stdout",
     "output_type": "stream",
     "text": [
      "Train on 60000 samples, validate on 5000 samples\n",
      "Epoch 1/8\n",
      "60000/60000 [==============================] - 3s 48us/sample - loss: 0.2577 - accuracy: 0.9239 - val_loss: 0.0474 - val_accuracy: 0.9860\n",
      "Epoch 2/8\n",
      "60000/60000 [==============================] - 2s 33us/sample - loss: 0.0683 - accuracy: 0.9791 - val_loss: 0.0255 - val_accuracy: 0.9930\n",
      "Epoch 3/8\n",
      "60000/60000 [==============================] - 2s 33us/sample - loss: 0.0487 - accuracy: 0.9854 - val_loss: 0.0222 - val_accuracy: 0.9926\n",
      "Epoch 4/8\n",
      "60000/60000 [==============================] - 2s 33us/sample - loss: 0.0372 - accuracy: 0.9885 - val_loss: 0.0157 - val_accuracy: 0.9954\n",
      "Epoch 5/8\n",
      "60000/60000 [==============================] - 2s 33us/sample - loss: 0.0292 - accuracy: 0.9906 - val_loss: 0.0202 - val_accuracy: 0.9934\n",
      "Epoch 6/8\n",
      "60000/60000 [==============================] - 2s 33us/sample - loss: 0.0252 - accuracy: 0.9919 - val_loss: 0.0184 - val_accuracy: 0.9940\n",
      "Epoch 7/8\n",
      "60000/60000 [==============================] - 2s 33us/sample - loss: 0.0212 - accuracy: 0.9933 - val_loss: 0.0140 - val_accuracy: 0.9950\n",
      "Epoch 8/8\n",
      "60000/60000 [==============================] - 2s 33us/sample - loss: 0.0195 - accuracy: 0.9935 - val_loss: 0.0131 - val_accuracy: 0.9960\n"
     ]
    }
   ],
   "source": [
    "# train the model\n",
    "model.fit(x_train, y_train,\n",
    "          batch_size=batch_size,\n",
    "          epochs=epochs,\n",
    "          verbose=1,\n",
    "          validation_data=(x_validate, y_validate),\n",
    "          callbacks=[history])\n",
    "score = model.evaluate(x_test, y_test, verbose=0)"
   ]
  },
  {
   "cell_type": "code",
   "execution_count": 12,
   "metadata": {},
   "outputs": [
    {
     "name": "stdout",
     "output_type": "stream",
     "text": [
      "Test loss: 0.03826660919543356\n",
      "Test accuracy: 0.987\n"
     ]
    },
    {
     "data": {
      "image/png": "[encoded data removed]",
      "text/plain": [
       "<Figure size 432x288 with 1 Axes>"
      ]
     },
     "metadata": {},
     "output_type": "display_data"
    }
   ],
   "source": [
    "print('Test loss:', score[0])\n",
    "print('Test accuracy:', score[1])\n",
    "plt.plot(range(1,epochs+1), history.acc, range(1,epochs+1), history.val_acc)\n",
    "plt.legend(['Train','Validate'])\n",
    "plt.xlabel('Epochs')\n",
    "plt.ylabel('Accuracy')\n",
    "plt.show()"
   ]
  },
  {
   "cell_type": "code",
   "execution_count": null,
   "metadata": {},
   "outputs": [],
   "source": [
    "# use the trained model to predict classes of x_test\n",
    "y_test_prime = model.predict(x_test)\n",
    "print(y_test_prime)\n",
    "y_test_prime_class = np.argmax(y_test_prime,axis=1)\n",
    "print(y_test_prime_class)"
   ]
  },
  {
   "cell_type": "code",
   "execution_count": null,
   "metadata": {},
   "outputs": [],
   "source": [
    "# show some specific predictions \n",
    "fig = plt.figure(0, [12, 3])\n",
    "axes = fig.subplots(1, 4, sharex='col', sharey='row')\n",
    "examples = np.random.choice(np.arange(x_test.shape[0]),size=4,replace=False)\n",
    "print(y_test_prime_class[examples])\n",
    "ii = 0\n",
    "for col in axes:\n",
    "    col.imshow(x_test[examples[ii],:,:].reshape(img_x,img_y),cmap='gray')\n",
    "    ii+=1\n",
    "plt.show()"
   ]
  },
  {
   "cell_type": "code",
   "execution_count": null,
   "metadata": {},
   "outputs": [],
   "source": [
    "# look at the activations for the first prediction above\n",
    "one_test = x_test[examples[0]].reshape(1,28,28,1)\n",
    "activations = (get_activations(model, one_test))\n",
    "display_activations(activations)"
   ]
  },
  {
   "cell_type": "code",
   "execution_count": null,
   "metadata": {},
   "outputs": [],
   "source": []
  }
 ],
 "metadata": {
  "kernelspec": {
   "display_name": "Environment (conda_tensorflow2_p36)",
   "language": "python",
   "name": "conda_tensorflow2_p36"
  },
  "language_info": {
   "codemirror_mode": {
    "name": "ipython",
    "version": 3
   },
   "file_extension": ".py",
   "mimetype": "text/x-python",
   "name": "python",
   "nbconvert_exporter": "python",
   "pygments_lexer": "ipython3",
   "version": "3.6.5"
  }
 },
 "nbformat": 4,
 "nbformat_minor": 2
}
