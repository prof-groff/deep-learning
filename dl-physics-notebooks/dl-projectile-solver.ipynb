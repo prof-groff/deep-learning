{
 "cells": [
  {
   "cell_type": "markdown",
   "metadata": {},
   "source": [
    "## Deep Learning Projectile Motion Solver\n",
    "This notebook implements an artifical neural network to solve projectile motion problems when only three of the variables x, y, v0x, v0y, vy, and t are known. An solution engine utilizing kinematic equations of motion is used to calculate exact solutions to problems used to both train the neural network and evaluate the accuracy of its results. The domain of the problems is constrained to simplify the coding of the exact solution engine. Specifically, v0x and v0y are always >=0, y is always <=0, and vy is always an unkown. "
   ]
  },
  {
   "cell_type": "markdown",
   "metadata": {},
   "source": [
    "### Import useful packaged including TensorFlow 2.0 and Keras.\n",
    "The notebook utilizes tensorflow >= 2.0, which now includes keras, a package of high level wrappers designed to make building and training deep learning models easier. "
   ]
  },
  {
   "cell_type": "code",
   "execution_count": 1,
   "metadata": {},
   "outputs": [],
   "source": [
    "# import packages\n",
    "import tensorflow as tf\n",
    "import tensorflow.keras as keras\n",
    "import numpy as np\n",
    "import random\n",
    "import matplotlib.pyplot as plt\n",
    "from matplotlib.lines import Line2D\n",
    "\n",
    "from tensorflow.keras.layers import Dense, Dropout\n",
    "from tensorflow.keras.models import Sequential\n",
    "from tensorflow.keras import optimizers\n",
    "\n",
    "import pickle\n",
    "import os"
   ]
  },
  {
   "cell_type": "markdown",
   "metadata": {},
   "source": [
    "### Check to see if a Tensorflow is installed with GPU support and if a GPU is available."
   ]
  },
  {
   "cell_type": "code",
   "execution_count": 2,
   "metadata": {},
   "outputs": [
    {
     "name": "stdout",
     "output_type": "stream",
     "text": [
      "Default GPU /device:GPU:0 found.\n"
     ]
    }
   ],
   "source": [
    "if not tf.test.is_gpu_available():\n",
    "    print('No GPU found. Training will be slower.')\n",
    "else:\n",
    "    print('Default GPU {} found.'.format(tf.test.gpu_device_name()))"
   ]
  },
  {
   "cell_type": "markdown",
   "metadata": {},
   "source": [
    "### Define helper functions."
   ]
  },
  {
   "cell_type": "code",
   "execution_count": 3,
   "metadata": {},
   "outputs": [],
   "source": [
    "# randomly select a set of three knowns and set all unknowns initially to zero.\n",
    "def seed_inputs():\n",
    "\n",
    "    # need at least one known for the x-dimension, and one from the y dimension, but three in all.\n",
    "    # to make imaginary and multiple solutions impossible, voy and v0x are always >=0, \n",
    "    # y is always <= 0, and vy is always unknown.\n",
    "    variables = ['x', 'y', 'v0x', 'v0y', 'vy', 't'] \n",
    "    knowns = random.sample(['v0x', 'x'],1) + random.sample(['v0y', 'y'],1)\n",
    "    remaining = set(['x','y','v0x','v0y','t']).difference(set(knowns))\n",
    "    knowns = knowns + random.sample(remaining,1)\n",
    "    vals = [round(random.uniform(0,1000),2), round(random.uniform(0,-500),2), \n",
    "            round(random.uniform(50,100),2), round(random.uniform(50,100),2), \n",
    "            round(random.uniform(0,-100),2), round(random.uniform(5,20),2)]\n",
    "    ins = {variables[i]: vals[i] for i in range(len(variables))}\n",
    "\n",
    "    for key in ins:\n",
    "        if not key in knowns:\n",
    "            ins[key] = 0\n",
    "    \n",
    "    return knowns, ins\n",
    "\n",
    "# engine to solve projectile motion problem using kinematic equations of motion.\n",
    "# this may not be the most efficient or ellagent implementation but it works.\n",
    "def solve_projectile(knowns, ins):\n",
    "    outs = dict.copy(ins)\n",
    "    g = -9.8\n",
    "\n",
    "\n",
    "    if 'x' in knowns and 'v0x' in knowns: # find t\n",
    "        outs['t'] = outs['x']/outs['v0x'] \n",
    "        knowns = knowns + ['t']\n",
    "\n",
    "    if not 'y' in knowns:\n",
    "        if 'v0y' in knowns and 'vy' in knowns: # if not T\n",
    "            outs['t'] = (outs['vy'] - outs['v0y'])/g\n",
    "        elif 'v0y' in knowns and 't' in knowns: # if not VY\n",
    "            outs['vy'] = outs['v0y'] + g*outs['t']\n",
    "        elif 'vy' in knowns and 't' in knowns: # if not V0Y\n",
    "            outs['v0y'] = outs['vy'] - g*outs['t']\n",
    "        outs['y'] = outs['v0y']*outs['t'] + 0.5*g*outs['t']**2\n",
    "    elif 'y' in knowns and 't' in knowns:\n",
    "        outs['v0y'] = (outs['y'] - 0.5*g*outs['t']**2)/outs['t']\n",
    "        outs['vy'] = outs['v0y'] + g*outs['t']\n",
    "    elif 'y' in knowns and 'vy' in knowns:\n",
    "        outs['v0y'] = np.sqrt(outs['vy']**2 - 2*g*outs['y']) # always positive\n",
    "        outs['t'] = (outs['vy']-outs['v0y'])/g\n",
    "    elif 'y' in knowns and 'v0y' in knowns:\n",
    "        outs['vy'] = -np.sqrt(outs['v0y']**2 + 2*g*outs['y'])\n",
    "        outs['t'] = (outs['vy']-outs['v0y'])/g\n",
    "    if 'x' in knowns and not 'v0x' in knowns:\n",
    "        outs['v0x'] = outs['x']/outs['t']\n",
    "    \n",
    "        \n",
    "    if 'v0x' in knowns and not 'x' in knowns:\n",
    "        outs['x'] = outs['v0x']*outs['t']\n",
    "\n",
    "    \n",
    "    for key in outs:\n",
    "        outs[key] = round(outs[key],2)\n",
    "\n",
    "    return outs\n",
    "\n",
    "# generate N projectile motion problems and their solutions.\n",
    "def generate_data(N):\n",
    "    x = np.zeros((N,6))\n",
    "    y = np.zeros((N,6))\n",
    "    for ii in range(N):\n",
    "        knowns, ins = seed_inputs()\n",
    "        outs = solve_projectile(knowns, ins)\n",
    "        x[ii,:] = list(ins.values())\n",
    "        y[ii,:] = list(outs.values())\n",
    "        \n",
    "    return x, y\n",
    "\n",
    "# function to test the solution engine so individual solutions can be checked for correctness.\n",
    "def test_solution_engine():\n",
    "    variables = np.array(['x', 'y', 'v0x', 'v0y', 'vy', 't'])\n",
    "    knowns, ins = seed_inputs()\n",
    "    outs = solve_projectile(knowns, ins)\n",
    "\n",
    "    unknowns = list(set(variables).difference(set(knowns)))\n",
    "\n",
    "    ins = list(ins.values())\n",
    "    outs = list(outs.values())\n",
    "\n",
    "    print('knowns:')\n",
    "    for each in knowns:\n",
    "        ii = list(np.where(variables==each))[0][0]\n",
    "        print(each, '=', ins[ii])\n",
    "    print('\\nsolved uknowns:')\n",
    "    for each in unknowns:\n",
    "        ii = list(np.where(variables==each))[0][0]\n",
    "        print(each, '=', outs[ii])\n",
    "    \n",
    "    return\n",
    "\n",
    "# function to calculate a projectiles trajectory from v0x, v0y, and x\n",
    "def calc_trajectory(solution):\n",
    "    theta = np.arctan(solution['v0y']/solution['v0x'])\n",
    "    v0 = np.sqrt(solution['v0x']**2 + solution['v0y']**2)\n",
    "    xrange = np.arange(0,solution['x'],0.1)\n",
    "    yrange = xrange*np.tan(theta) - 9.8*np.multiply(xrange,xrange)/(2*v0**2*np.cos(theta)**2)\n",
    "    \n",
    "    return xrange, yrange"
   ]
  },
  {
   "cell_type": "markdown",
   "metadata": {},
   "source": [
    "### Run the following cell to test the solution engine."
   ]
  },
  {
   "cell_type": "code",
   "execution_count": 4,
   "metadata": {},
   "outputs": [
    {
     "name": "stdout",
     "output_type": "stream",
     "text": [
      "knowns:\n",
      "v0x = 94.51\n",
      "v0y = 62.76\n",
      "y = -405.91\n",
      "\n",
      "solved uknowns:\n",
      "t = 17.53\n",
      "vy = -109.06\n",
      "x = 1657.04\n"
     ]
    }
   ],
   "source": [
    "test_solution_engine()"
   ]
  },
  {
   "cell_type": "markdown",
   "metadata": {},
   "source": [
    "### Generate training, test, and validation data sets."
   ]
  },
  {
   "cell_type": "code",
   "execution_count": 5,
   "metadata": {},
   "outputs": [
    {
     "name": "stdout",
     "output_type": "stream",
     "text": [
      "Loading saved data...\n"
     ]
    }
   ],
   "source": [
    "filename = 'dl-projectile-solver-data.pickle'\n",
    "\n",
    "if os.path.exists(filename):\n",
    "    print('Loading saved data...')\n",
    "    with open(filename, 'rb') as f:\n",
    "        x_train, x_validate, x_test, y_train, y_validate, y_test = pickle.load(f)\n",
    "\n",
    "else:\n",
    "    print('Generation data...')\n",
    "    x_train, y_train = generate_data(50000)\n",
    "    x_test, y_test = generate_data(5000)\n",
    "    x_validate, y_validate = generate_data(5000)\n",
    "    \n",
    "    with open(filename, 'wb') as f:\n",
    "        print('Saving data...')\n",
    "        pickle.dump([x_train, x_validate, x_test, y_train, y_validate, y_test], f)"
   ]
  },
  {
   "cell_type": "markdown",
   "metadata": {},
   "source": [
    "### Define the ANN model graph."
   ]
  },
  {
   "cell_type": "code",
   "execution_count": 6,
   "metadata": {},
   "outputs": [],
   "source": [
    "# learning_rate is a hyperparameter\n",
    "learning_rate = 0.0001\n",
    "\n",
    "# four hidden layers - three fully connected and a dropout layer - and an output layer\n",
    "# linear activation is utilized on the final layer to get numerical results commensurate with the type of \n",
    "# problem we are considering.\n",
    "model = Sequential()\n",
    "model.add(Dense(128, activation='relu', input_dim=6))\n",
    "model.add(Dense(256, activation='relu'))\n",
    "model.add(Dropout(rate=0.05))\n",
    "model.add(Dense(256, activation='relu'))\n",
    "model.add(Dense(6, activation='linear'))\n",
    "\n",
    "          \n",
    "# the error function utilized is the sum of the mean squared error.\n",
    "model.compile(loss='mean_squared_error',\n",
    "              optimizer=keras.optimizers.Adam(lr=learning_rate),\n",
    "              metrics=['accuracy'])\n",
    "          \n",
    "class AccuracyHistory(keras.callbacks.Callback):\n",
    "    def on_train_begin(self, logs={}):\n",
    "        self.acc = []\n",
    "        self.val_acc = []\n",
    "\n",
    "    def on_epoch_end(self, batch, logs={}):\n",
    "        self.acc.append(logs.get('accuracy'))\n",
    "        self.val_acc.append(logs.get('val_accuracy'))\n",
    "\n",
    "history = AccuracyHistory()"
   ]
  },
  {
   "cell_type": "markdown",
   "metadata": {},
   "source": [
    "### Train the model."
   ]
  },
  {
   "cell_type": "code",
   "execution_count": 7,
   "metadata": {},
   "outputs": [
    {
     "name": "stdout",
     "output_type": "stream",
     "text": [
      "Train on 50000 samples, validate on 5000 samples\n",
      "Epoch 1/64\n",
      "50000/50000 [==============================] - 3s 62us/sample - loss: 872225.5045 - accuracy: 0.9269 - val_loss: 17493.6119 - val_accuracy: 0.9358\n",
      "Epoch 2/64\n",
      "50000/50000 [==============================] - 2s 41us/sample - loss: 854543.8300 - accuracy: 0.9295 - val_loss: 14942.8569 - val_accuracy: 0.9272\n",
      "Epoch 3/64\n",
      "50000/50000 [==============================] - 2s 42us/sample - loss: 852616.3570 - accuracy: 0.9283 - val_loss: 13738.4908 - val_accuracy: 0.9294\n",
      "Epoch 4/64\n",
      "50000/50000 [==============================] - 2s 42us/sample - loss: 850257.4144 - accuracy: 0.9308 - val_loss: 12641.1263 - val_accuracy: 0.9360\n",
      "Epoch 5/64\n",
      "50000/50000 [==============================] - 2s 41us/sample - loss: 848499.4784 - accuracy: 0.9344 - val_loss: 11099.7063 - val_accuracy: 0.9414\n",
      "Epoch 6/64\n",
      "50000/50000 [==============================] - 2s 41us/sample - loss: 846607.8786 - accuracy: 0.9439 - val_loss: 10762.9924 - val_accuracy: 0.9508\n",
      "Epoch 7/64\n",
      "50000/50000 [==============================] - 2s 41us/sample - loss: 844317.8983 - accuracy: 0.9498 - val_loss: 11797.7771 - val_accuracy: 0.9522\n",
      "Epoch 8/64\n",
      "50000/50000 [==============================] - 2s 41us/sample - loss: 840726.0159 - accuracy: 0.9539 - val_loss: 8411.8602 - val_accuracy: 0.9570\n",
      "Epoch 9/64\n",
      "50000/50000 [==============================] - 2s 42us/sample - loss: 839335.7313 - accuracy: 0.9602 - val_loss: 8331.6581 - val_accuracy: 0.9594\n",
      "Epoch 10/64\n",
      "50000/50000 [==============================] - 2s 41us/sample - loss: 835077.5814 - accuracy: 0.9621 - val_loss: 7055.3858 - val_accuracy: 0.9586\n",
      "Epoch 11/64\n",
      "50000/50000 [==============================] - 2s 42us/sample - loss: 831248.2558 - accuracy: 0.9653 - val_loss: 11498.7363 - val_accuracy: 0.9598\n",
      "Epoch 12/64\n",
      "50000/50000 [==============================] - 2s 42us/sample - loss: 826693.6813 - accuracy: 0.9654 - val_loss: 11800.1054 - val_accuracy: 0.9608\n",
      "Epoch 13/64\n",
      "50000/50000 [==============================] - 2s 42us/sample - loss: 821230.9254 - accuracy: 0.9644 - val_loss: 7072.9078 - val_accuracy: 0.9634\n",
      "Epoch 14/64\n",
      "50000/50000 [==============================] - 2s 41us/sample - loss: 817988.5576 - accuracy: 0.9650 - val_loss: 10888.9752 - val_accuracy: 0.9670\n",
      "Epoch 15/64\n",
      "50000/50000 [==============================] - 2s 41us/sample - loss: 814128.7481 - accuracy: 0.9658 - val_loss: 8897.6128 - val_accuracy: 0.9650\n",
      "Epoch 16/64\n",
      "50000/50000 [==============================] - 2s 41us/sample - loss: 804438.2639 - accuracy: 0.9633 - val_loss: 4576.7177 - val_accuracy: 0.9644\n",
      "Epoch 17/64\n",
      "50000/50000 [==============================] - 2s 42us/sample - loss: 803066.8864 - accuracy: 0.9634 - val_loss: 6630.3757 - val_accuracy: 0.9666\n",
      "Epoch 18/64\n",
      "50000/50000 [==============================] - 2s 41us/sample - loss: 795221.2026 - accuracy: 0.9624 - val_loss: 10888.4005 - val_accuracy: 0.9640\n",
      "Epoch 19/64\n",
      "50000/50000 [==============================] - 2s 41us/sample - loss: 791601.8041 - accuracy: 0.9613 - val_loss: 10232.8272 - val_accuracy: 0.9652\n",
      "Epoch 20/64\n",
      "50000/50000 [==============================] - 2s 42us/sample - loss: 781516.6360 - accuracy: 0.9619 - val_loss: 9852.1622 - val_accuracy: 0.9674\n",
      "Epoch 21/64\n",
      "50000/50000 [==============================] - 2s 41us/sample - loss: 774530.3569 - accuracy: 0.9621 - val_loss: 33372.1921 - val_accuracy: 0.9700\n",
      "Epoch 22/64\n",
      "50000/50000 [==============================] - 2s 41us/sample - loss: 770731.0875 - accuracy: 0.9626 - val_loss: 12208.3815 - val_accuracy: 0.9660\n",
      "Epoch 23/64\n",
      "50000/50000 [==============================] - 2s 41us/sample - loss: 766939.9994 - accuracy: 0.9620 - val_loss: 21103.3915 - val_accuracy: 0.9620\n",
      "Epoch 24/64\n",
      "50000/50000 [==============================] - 2s 41us/sample - loss: 762278.8969 - accuracy: 0.9621 - val_loss: 15412.6938 - val_accuracy: 0.9662\n",
      "Epoch 25/64\n",
      "50000/50000 [==============================] - 2s 41us/sample - loss: 753000.4412 - accuracy: 0.9636 - val_loss: 9183.1011 - val_accuracy: 0.9714\n",
      "Epoch 26/64\n",
      "50000/50000 [==============================] - 2s 41us/sample - loss: 752946.1229 - accuracy: 0.9636 - val_loss: 18874.6021 - val_accuracy: 0.9676\n",
      "Epoch 27/64\n",
      "50000/50000 [==============================] - 2s 41us/sample - loss: 745548.9605 - accuracy: 0.9647 - val_loss: 17685.9850 - val_accuracy: 0.9708\n",
      "Epoch 28/64\n",
      "50000/50000 [==============================] - 2s 42us/sample - loss: 737664.6556 - accuracy: 0.9654 - val_loss: 14644.1487 - val_accuracy: 0.9734\n",
      "Epoch 29/64\n",
      "50000/50000 [==============================] - 2s 42us/sample - loss: 737738.7423 - accuracy: 0.9675 - val_loss: 26509.7268 - val_accuracy: 0.9736\n",
      "Epoch 30/64\n",
      "50000/50000 [==============================] - 2s 41us/sample - loss: 725808.8081 - accuracy: 0.9663 - val_loss: 34800.4495 - val_accuracy: 0.9724\n",
      "Epoch 31/64\n",
      "50000/50000 [==============================] - 2s 42us/sample - loss: 718801.7267 - accuracy: 0.9663 - val_loss: 22056.0705 - val_accuracy: 0.9672\n",
      "Epoch 32/64\n",
      "50000/50000 [==============================] - 2s 41us/sample - loss: 713682.9816 - accuracy: 0.9655 - val_loss: 40630.9903 - val_accuracy: 0.9668\n",
      "Epoch 33/64\n",
      "50000/50000 [==============================] - 2s 42us/sample - loss: 713235.5904 - accuracy: 0.9656 - val_loss: 18381.0181 - val_accuracy: 0.9712\n",
      "Epoch 34/64\n",
      "50000/50000 [==============================] - 2s 41us/sample - loss: 709781.9800 - accuracy: 0.9665 - val_loss: 29661.3161 - val_accuracy: 0.9748\n",
      "Epoch 35/64\n",
      "50000/50000 [==============================] - 2s 42us/sample - loss: 700293.4802 - accuracy: 0.9682 - val_loss: 30000.6803 - val_accuracy: 0.9722\n",
      "Epoch 36/64\n",
      "50000/50000 [==============================] - 2s 42us/sample - loss: 692421.3246 - accuracy: 0.9671 - val_loss: 19093.0726 - val_accuracy: 0.9740\n",
      "Epoch 37/64\n",
      "50000/50000 [==============================] - 2s 41us/sample - loss: 686842.2281 - accuracy: 0.9680 - val_loss: 52455.9819 - val_accuracy: 0.9742\n",
      "Epoch 38/64\n",
      "50000/50000 [==============================] - 2s 42us/sample - loss: 689524.7032 - accuracy: 0.9691 - val_loss: 45164.2268 - val_accuracy: 0.9758\n",
      "Epoch 39/64\n",
      "50000/50000 [==============================] - 2s 42us/sample - loss: 685355.2313 - accuracy: 0.9691 - val_loss: 31933.8874 - val_accuracy: 0.9724\n",
      "Epoch 40/64\n",
      "50000/50000 [==============================] - 2s 41us/sample - loss: 678146.0772 - accuracy: 0.9693 - val_loss: 40928.8267 - val_accuracy: 0.9664\n",
      "Epoch 41/64\n",
      "50000/50000 [==============================] - 2s 41us/sample - loss: 668827.5210 - accuracy: 0.9679 - val_loss: 67931.1280 - val_accuracy: 0.9754\n",
      "Epoch 42/64\n",
      "50000/50000 [==============================] - 2s 42us/sample - loss: 661192.5030 - accuracy: 0.9662 - val_loss: 19544.9517 - val_accuracy: 0.9704\n",
      "Epoch 43/64\n",
      "50000/50000 [==============================] - 2s 41us/sample - loss: 660922.2812 - accuracy: 0.9658 - val_loss: 23917.9010 - val_accuracy: 0.9726\n",
      "Epoch 44/64\n",
      "50000/50000 [==============================] - 2s 42us/sample - loss: 658456.1759 - accuracy: 0.9668 - val_loss: 56333.8921 - val_accuracy: 0.9738\n",
      "Epoch 45/64\n",
      "50000/50000 [==============================] - 2s 41us/sample - loss: 647016.5464 - accuracy: 0.9678 - val_loss: 24787.0177 - val_accuracy: 0.9712\n",
      "Epoch 46/64\n",
      "50000/50000 [==============================] - 2s 42us/sample - loss: 653487.9564 - accuracy: 0.9671 - val_loss: 68114.9602 - val_accuracy: 0.9686\n",
      "Epoch 47/64\n",
      "50000/50000 [==============================] - 2s 42us/sample - loss: 628361.9942 - accuracy: 0.9683 - val_loss: 13655.8008 - val_accuracy: 0.9704\n",
      "Epoch 48/64\n",
      "50000/50000 [==============================] - 2s 42us/sample - loss: 642589.1020 - accuracy: 0.9684 - val_loss: 22660.7452 - val_accuracy: 0.9684\n",
      "Epoch 49/64\n",
      "50000/50000 [==============================] - 2s 42us/sample - loss: 625517.5664 - accuracy: 0.9686 - val_loss: 84744.1368 - val_accuracy: 0.9740\n",
      "Epoch 50/64\n",
      "50000/50000 [==============================] - 2s 41us/sample - loss: 621292.7274 - accuracy: 0.9686 - val_loss: 17648.9477 - val_accuracy: 0.9738\n",
      "Epoch 51/64\n",
      "50000/50000 [==============================] - 2s 42us/sample - loss: 621736.7413 - accuracy: 0.9681 - val_loss: 13102.6483 - val_accuracy: 0.9724\n",
      "Epoch 52/64\n"
     ]
    },
    {
     "name": "stdout",
     "output_type": "stream",
     "text": [
      "50000/50000 [==============================] - 2s 43us/sample - loss: 622769.5293 - accuracy: 0.9693 - val_loss: 22633.4171 - val_accuracy: 0.9744\n",
      "Epoch 53/64\n",
      "50000/50000 [==============================] - 2s 41us/sample - loss: 611581.1413 - accuracy: 0.9686 - val_loss: 39817.8602 - val_accuracy: 0.9738\n",
      "Epoch 54/64\n",
      "50000/50000 [==============================] - 2s 41us/sample - loss: 599054.8388 - accuracy: 0.9685 - val_loss: 31771.1225 - val_accuracy: 0.9696\n",
      "Epoch 55/64\n",
      "50000/50000 [==============================] - 2s 41us/sample - loss: 588257.6158 - accuracy: 0.9686 - val_loss: 67454.6282 - val_accuracy: 0.9736\n",
      "Epoch 56/64\n",
      "50000/50000 [==============================] - 2s 42us/sample - loss: 597019.5909 - accuracy: 0.9685 - val_loss: 73041.8384 - val_accuracy: 0.9712\n",
      "Epoch 57/64\n",
      "50000/50000 [==============================] - 2s 41us/sample - loss: 593548.5517 - accuracy: 0.9681 - val_loss: 83766.6834 - val_accuracy: 0.9744\n",
      "Epoch 58/64\n",
      "50000/50000 [==============================] - 2s 41us/sample - loss: 560598.6153 - accuracy: 0.9672 - val_loss: 9304.5249 - val_accuracy: 0.9688\n",
      "Epoch 59/64\n",
      "50000/50000 [==============================] - 2s 42us/sample - loss: 583941.7125 - accuracy: 0.9676 - val_loss: 17998.5067 - val_accuracy: 0.9680\n",
      "Epoch 60/64\n",
      "50000/50000 [==============================] - 2s 42us/sample - loss: 566858.2257 - accuracy: 0.9678 - val_loss: 26273.3647 - val_accuracy: 0.9734\n",
      "Epoch 61/64\n",
      "50000/50000 [==============================] - 2s 41us/sample - loss: 564396.2039 - accuracy: 0.9697 - val_loss: 75598.9719 - val_accuracy: 0.9736\n",
      "Epoch 62/64\n",
      "50000/50000 [==============================] - 2s 42us/sample - loss: 548980.3782 - accuracy: 0.9682 - val_loss: 16275.6344 - val_accuracy: 0.9682\n",
      "Epoch 63/64\n",
      "50000/50000 [==============================] - 2s 42us/sample - loss: 556228.0022 - accuracy: 0.9689 - val_loss: 66000.8313 - val_accuracy: 0.9692\n",
      "Epoch 64/64\n",
      "50000/50000 [==============================] - 2s 41us/sample - loss: 555300.4733 - accuracy: 0.9677 - val_loss: 49653.2967 - val_accuracy: 0.9752\n"
     ]
    }
   ],
   "source": [
    "# hyperparameters\n",
    "batch_size = 64\n",
    "epochs = 64\n",
    "\n",
    "# train the model\n",
    "model.fit(x_train, y_train,\n",
    "          batch_size=batch_size,\n",
    "          epochs=epochs,\n",
    "          verbose=1,\n",
    "          validation_data=(x_validate, y_validate),\n",
    "          callbacks=[history])\n",
    "score = model.evaluate(x_test, y_test, verbose=0)"
   ]
  },
  {
   "cell_type": "markdown",
   "metadata": {},
   "source": [
    "### Graph the accuracy of the model using the training data set versus the validation data set."
   ]
  },
  {
   "cell_type": "code",
   "execution_count": 8,
   "metadata": {},
   "outputs": [
    {
     "name": "stdout",
     "output_type": "stream",
     "text": [
      "Test loss: 75898.57591015624\n",
      "Test accuracy: 0.9784\n"
     ]
    },
    {
     "data": {
      "image/png": "[encoded data removed]",
      "text/plain": [
       "<Figure size 432x288 with 1 Axes>"
      ]
     },
     "metadata": {},
     "output_type": "display_data"
    }
   ],
   "source": [
    "print('Test loss:', score[0])\n",
    "print('Test accuracy:', score[1])\n",
    "plt.plot(range(1,epochs+1), history.acc, range(1,epochs+1), history.val_acc)\n",
    "plt.legend(['Train','Validate'])\n",
    "plt.xlabel('Epochs')\n",
    "plt.ylabel('Accuracy')\n",
    "plt.show()"
   ]
  },
  {
   "cell_type": "markdown",
   "metadata": {},
   "source": [
    "### Visualize solutions to the projectile motion problem predicted by the ANN\n",
    "The solutions to the projectile motion problems predicted by the trained neural network are not exact solutions. In fact, the nature of the model can result in even the knowns fed into the network being adusted. So, each prediction made by the ANN from a set of three knowns acually defines a variety of trajectories, which are visualized here."
   ]
  },
  {
   "cell_type": "code",
   "execution_count": 12,
   "metadata": {},
   "outputs": [
    {
     "data": {
      "image/png": "[encoded data removed]",
      "text/plain": [
       "<Figure size 720x432 with 1 Axes>"
      ]
     },
     "metadata": {},
     "output_type": "display_data"
    }
   ],
   "source": [
    "variables = np.array(['x', 'y', 'v0x', 'v0y', 'vy', 't'])\n",
    "knowns, ins = seed_inputs()\n",
    "outs = solve_projectile(knowns, ins)\n",
    "outs_prime = model.predict([list(ins.values())])\n",
    "outs_prime = {variables[i]: round(outs_prime[0][i],2) for i in range(len(variables))} # convert to dict\n",
    "knowns_perms = [['v0x', 'v0y', 'x'], ['v0x', 'v0y', 'y'], ['v0x', 'v0y', 't'],\n",
    "                ['v0x', 'y', 'x'], ['v0x', 'y', 't'],\n",
    "                ['x', 'v0y', 'y'], ['x', 'v0y', 't'],\n",
    "                ['x', 'y', 't']]\n",
    "plt.figure(figsize=(10,6))\n",
    "\n",
    "xr, yr = calc_trajectory(outs)\n",
    "actual = plt.plot(xr, yr, 'k', linewidth=5)\n",
    "\n",
    "for each in knowns_perms:\n",
    "    solution = solve_projectile(each, outs_prime)\n",
    "    xrange, yrange = calc_trajectory(solution)\n",
    "    plt.plot(xrange,yrange,'r', linestyle='dashed')\n",
    "\n",
    "plt.xlabel('x (m)', fontsize=12)\n",
    "plt.ylabel('y (m)', fontsize=12)\n",
    "\n",
    "\n",
    "legend_elements = [Line2D([0], [0], color='k', linewidth=5), Line2D([0], [0], color='r', linestyle='dashed')]\n",
    "labels = ['actual','predicted']\n",
    "\n",
    "plt.legend(legend_elements, labels, fontsize=12)\n",
    "plt.savefig('projectile.png')\n",
    "plt.show()"
   ]
  },
  {
   "cell_type": "code",
   "execution_count": null,
   "metadata": {},
   "outputs": [],
   "source": []
  }
 ],
 "metadata": {
  "kernelspec": {
   "display_name": "Environment (conda_tensorflow2_p36)",
   "language": "python",
   "name": "conda_tensorflow2_p36"
  },
  "language_info": {
   "codemirror_mode": {
    "name": "ipython",
    "version": 3
   },
   "file_extension": ".py",
   "mimetype": "text/x-python",
   "name": "python",
   "nbconvert_exporter": "python",
   "pygments_lexer": "ipython3",
   "version": "3.6.5"
  }
 },
 "nbformat": 4,
 "nbformat_minor": 2
}
